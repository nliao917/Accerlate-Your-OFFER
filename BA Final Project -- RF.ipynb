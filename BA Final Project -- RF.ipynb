{
 "cells": [
  {
   "cell_type": "code",
   "execution_count": 1,
   "metadata": {},
   "outputs": [],
   "source": [
    "import pandas as pd\n",
    "import numpy as np\n",
    "from sklearn.model_selection import train_test_split"
   ]
  },
  {
   "cell_type": "markdown",
   "metadata": {},
   "source": [
    "# Read In Data"
   ]
  },
  {
   "cell_type": "code",
   "execution_count": 2,
   "metadata": {},
   "outputs": [],
   "source": [
    "df_BA=pd.read_csv('BA')\n",
    "df_DS=pd.read_csv('DS')\n",
    "df_DA=pd.read_csv('DA')\n",
    "df_DE=pd.read_csv('DE')"
   ]
  },
  {
   "cell_type": "code",
   "execution_count": null,
   "metadata": {},
   "outputs": [],
   "source": []
  },
  {
   "cell_type": "markdown",
   "metadata": {},
   "source": [
    "# Sample and Split"
   ]
  },
  {
   "cell_type": "code",
   "execution_count": 3,
   "metadata": {},
   "outputs": [],
   "source": [
    "from sklearn.model_selection import train_test_split"
   ]
  },
  {
   "cell_type": "code",
   "execution_count": 4,
   "metadata": {},
   "outputs": [
    {
     "data": {
      "text/plain": [
       "(973, 3983, 1663, 1167)"
      ]
     },
     "execution_count": 4,
     "metadata": {},
     "output_type": "execute_result"
    }
   ],
   "source": [
    "len(df_DS),len(df_DA),len(df_BA),len(df_DE)"
   ]
  },
  {
   "cell_type": "code",
   "execution_count": 5,
   "metadata": {},
   "outputs": [],
   "source": [
    "df_DA=df_DA.sample(n=1000)\n",
    "df_BA=df_BA.sample(n=1000)"
   ]
  },
  {
   "cell_type": "code",
   "execution_count": 6,
   "metadata": {},
   "outputs": [
    {
     "data": {
      "text/plain": [
       "(973, 1000, 1000, 1167)"
      ]
     },
     "execution_count": 6,
     "metadata": {},
     "output_type": "execute_result"
    }
   ],
   "source": [
    "len(df_DS),len(df_DA),len(df_BA),len(df_DE)"
   ]
  },
  {
   "cell_type": "code",
   "execution_count": 7,
   "metadata": {},
   "outputs": [],
   "source": [
    "whole_list=[df_DA,df_DS,df_DE,df_BA]\n",
    "df_whole=pd.concat(whole_list)"
   ]
  },
  {
   "cell_type": "code",
   "execution_count": null,
   "metadata": {},
   "outputs": [],
   "source": []
  },
  {
   "cell_type": "markdown",
   "metadata": {},
   "source": [
    "# Models"
   ]
  },
  {
   "cell_type": "code",
   "execution_count": 8,
   "metadata": {},
   "outputs": [],
   "source": [
    "from sklearn.feature_extraction.text import CountVectorizer\n",
    "from sklearn.feature_extraction.text import TfidfTransformer\n",
    "from sklearn.metrics import classification_report,confusion_matrix\n",
    "from sklearn.tree import DecisionTreeClassifier\n",
    "from sklearn.model_selection import train_test_split"
   ]
  },
  {
   "cell_type": "code",
   "execution_count": 9,
   "metadata": {},
   "outputs": [],
   "source": [
    "def evaluate_model(df,best,rf=False):\n",
    "    df_train, df_test = train_test_split(df, test_size = 0.3)\n",
    "    clean_train=df_train[\"clean\"]\n",
    "    Y_train=df_train[\"JT\"]\n",
    "    clean_test=df_test[\"clean\"]\n",
    "    Y_test=df_test[\"JT\"]\n",
    "\n",
    "    vectorizer = CountVectorizer().fit(df[\"clean\"])\n",
    "    clean_bow= vectorizer.transform(df[\"clean\"])\n",
    "    train_bow = vectorizer.transform(clean_train)\n",
    "    test_bow = vectorizer.transform(clean_test)\n",
    "    parameter=vectorizer.get_feature_names()\n",
    "    \n",
    "    tfidf_transformer = TfidfTransformer().fit(clean_bow)\n",
    "    X_train = tfidf_transformer.transform(train_bow)\n",
    "    X_test = tfidf_transformer.transform(test_bow)\n",
    "    \n",
    "    best.fit(X_train, Y_train)\n",
    "    predictions1 = best.predict(X_test)\n",
    "    print(classification_report(Y_test,predictions1))\n",
    "    if rf:\n",
    "        importances =best.feature_importances_\n",
    "        forest_importances = pd.Series(importances,index=parameter)\n",
    "        forest_importances=forest_importances.sort_values(ascending=False)[0:10]\n",
    "        ax=forest_importances.plot.barh(x='lab', y='val')\n",
    "        ax.invert_yaxis()\n",
    "    "
   ]
  },
  {
   "cell_type": "code",
   "execution_count": 10,
   "metadata": {},
   "outputs": [],
   "source": [
    "def get_df_name(df):\n",
    "    name =[x for x in globals() if globals()[x] is df][0]\n",
    "    return name"
   ]
  },
  {
   "cell_type": "code",
   "execution_count": 11,
   "metadata": {},
   "outputs": [],
   "source": [
    "def encoding(name):\n",
    "    df = pd.DataFrame()\n",
    "    whole_list=[df_DA,df_DS,df_DE,df_BA]\n",
    "    for i in whole_list:\n",
    "        name1=get_df_name(i)\n",
    "        if name1.split(\"_\")[1]!=name:\n",
    "            i_copy=i.sample(n=340)\n",
    "        else:\n",
    "            i_copy=i.copy()\n",
    "        df=pd.concat([df,i_copy],ignore_index=True)\n",
    "    df[\"NEWJT\"]= np.where(df[\"JT\"]==name,\"1\",\"0\")\n",
    "\n",
    "    df[\"JT\"]=df[\"NEWJT\"]\n",
    "    return df"
   ]
  },
  {
   "cell_type": "code",
   "execution_count": 12,
   "metadata": {},
   "outputs": [],
   "source": [
    "BA_model = encoding('BA')"
   ]
  },
  {
   "cell_type": "code",
   "execution_count": 13,
   "metadata": {},
   "outputs": [
    {
     "data": {
      "text/html": [
       "<div>\n",
       "<style scoped>\n",
       "    .dataframe tbody tr th:only-of-type {\n",
       "        vertical-align: middle;\n",
       "    }\n",
       "\n",
       "    .dataframe tbody tr th {\n",
       "        vertical-align: top;\n",
       "    }\n",
       "\n",
       "    .dataframe thead th {\n",
       "        text-align: right;\n",
       "    }\n",
       "</style>\n",
       "<table border=\"1\" class=\"dataframe\">\n",
       "  <thead>\n",
       "    <tr style=\"text-align: right;\">\n",
       "      <th></th>\n",
       "      <th>JT</th>\n",
       "      <th>JD</th>\n",
       "      <th>tool_list</th>\n",
       "      <th>skill_list</th>\n",
       "      <th>degree_list</th>\n",
       "      <th>clean</th>\n",
       "      <th>NEWJT</th>\n",
       "    </tr>\n",
       "  </thead>\n",
       "  <tbody>\n",
       "    <tr>\n",
       "      <th>0</th>\n",
       "      <td>0</td>\n",
       "      <td>Use advanced data analysis techniques that lev...</td>\n",
       "      <td>[None]</td>\n",
       "      <td>['data', 'busi']</td>\n",
       "      <td>999.0</td>\n",
       "      <td>['data', 'busi']</td>\n",
       "      <td>0</td>\n",
       "    </tr>\n",
       "    <tr>\n",
       "      <th>1</th>\n",
       "      <td>0</td>\n",
       "      <td>For more information, please visit www.firstam...</td>\n",
       "      <td>['excel', 'sql', 'power bi', 'bi']</td>\n",
       "      <td>['commun', 'data', 'busi']</td>\n",
       "      <td>1.0</td>\n",
       "      <td>['excel', 'sql', 'powerbi', 'commun', 'data', ...</td>\n",
       "      <td>0</td>\n",
       "    </tr>\n",
       "    <tr>\n",
       "      <th>2</th>\n",
       "      <td>0</td>\n",
       "      <td>CyberSpace Data Analyst\\nOutstanding past perf...</td>\n",
       "      <td>[None]</td>\n",
       "      <td>['risk', 'dashboard', 'data', 'predict', 'rese...</td>\n",
       "      <td>1.0</td>\n",
       "      <td>['risk', 'dashboard', 'data', 'predict', 'rese...</td>\n",
       "      <td>0</td>\n",
       "    </tr>\n",
       "    <tr>\n",
       "      <th>3</th>\n",
       "      <td>0</td>\n",
       "      <td>The Data Analyst supports the Managed Care Dep...</td>\n",
       "      <td>['powerpoint', 'spss', 'excel', 'sa']</td>\n",
       "      <td>['data', 'supervis', 'research', 'statist', 'c...</td>\n",
       "      <td>1.0</td>\n",
       "      <td>['powerpoint', 'spss', 'excel', 'sa', 'data', ...</td>\n",
       "      <td>0</td>\n",
       "    </tr>\n",
       "    <tr>\n",
       "      <th>4</th>\n",
       "      <td>0</td>\n",
       "      <td>About the Role\\nWhat You'll Be Doing\\nResearch...</td>\n",
       "      <td>['r', 'sql', 'python']</td>\n",
       "      <td>['data', 'account', 'research', 'busi', 'commun']</td>\n",
       "      <td>999.0</td>\n",
       "      <td>['r', 'sql', 'python', 'data', 'account', 'res...</td>\n",
       "      <td>0</td>\n",
       "    </tr>\n",
       "    <tr>\n",
       "      <th>...</th>\n",
       "      <td>...</td>\n",
       "      <td>...</td>\n",
       "      <td>...</td>\n",
       "      <td>...</td>\n",
       "      <td>...</td>\n",
       "      <td>...</td>\n",
       "      <td>...</td>\n",
       "    </tr>\n",
       "    <tr>\n",
       "      <th>2015</th>\n",
       "      <td>1</td>\n",
       "      <td>Organization: Accenture Federal Services\\nAcce...</td>\n",
       "      <td>['salesforc']</td>\n",
       "      <td>['commun', 'busi']</td>\n",
       "      <td>1.0</td>\n",
       "      <td>['salesforc', 'commun', 'busi']</td>\n",
       "      <td>1</td>\n",
       "    </tr>\n",
       "    <tr>\n",
       "      <th>2016</th>\n",
       "      <td>1</td>\n",
       "      <td>State:\\nTexas\\nCity:\\nIrving\\nInterest:\\nPost ...</td>\n",
       "      <td>['excel', 'microsoft']</td>\n",
       "      <td>['risk', 'data', 'econom', 'busi', 'commun', '...</td>\n",
       "      <td>1.0</td>\n",
       "      <td>['excel', 'microsoft', 'risk', 'data', 'econom...</td>\n",
       "      <td>1</td>\n",
       "    </tr>\n",
       "    <tr>\n",
       "      <th>2017</th>\n",
       "      <td>1</td>\n",
       "      <td>C2C candidates will not be accepted.\\nbull Ass...</td>\n",
       "      <td>[None]</td>\n",
       "      <td>['data', 'analyz']</td>\n",
       "      <td>999.0</td>\n",
       "      <td>['data', 'analyz']</td>\n",
       "      <td>1</td>\n",
       "    </tr>\n",
       "    <tr>\n",
       "      <th>2018</th>\n",
       "      <td>1</td>\n",
       "      <td>Job DescriptionSUMMARYThe Business Analyst is ...</td>\n",
       "      <td>[None]</td>\n",
       "      <td>['commun', 'data', 'busi']</td>\n",
       "      <td>999.0</td>\n",
       "      <td>['commun', 'data', 'busi']</td>\n",
       "      <td>1</td>\n",
       "    </tr>\n",
       "    <tr>\n",
       "      <th>2019</th>\n",
       "      <td>1</td>\n",
       "      <td>This will include recommendations around assor...</td>\n",
       "      <td>['power bi', 'excel', 'microsoft', 'rstudio', ...</td>\n",
       "      <td>['data', 'analyz', 'kpi', 'dashboard', 'resear...</td>\n",
       "      <td>999.0</td>\n",
       "      <td>['powerbi', 'excel', 'microsoft', 'r', 'sql', ...</td>\n",
       "      <td>1</td>\n",
       "    </tr>\n",
       "  </tbody>\n",
       "</table>\n",
       "<p>2020 rows × 7 columns</p>\n",
       "</div>"
      ],
      "text/plain": [
       "     JT                                                 JD  \\\n",
       "0     0  Use advanced data analysis techniques that lev...   \n",
       "1     0  For more information, please visit www.firstam...   \n",
       "2     0  CyberSpace Data Analyst\\nOutstanding past perf...   \n",
       "3     0  The Data Analyst supports the Managed Care Dep...   \n",
       "4     0  About the Role\\nWhat You'll Be Doing\\nResearch...   \n",
       "...  ..                                                ...   \n",
       "2015  1  Organization: Accenture Federal Services\\nAcce...   \n",
       "2016  1  State:\\nTexas\\nCity:\\nIrving\\nInterest:\\nPost ...   \n",
       "2017  1  C2C candidates will not be accepted.\\nbull Ass...   \n",
       "2018  1  Job DescriptionSUMMARYThe Business Analyst is ...   \n",
       "2019  1  This will include recommendations around assor...   \n",
       "\n",
       "                                              tool_list  \\\n",
       "0                                                [None]   \n",
       "1                    ['excel', 'sql', 'power bi', 'bi']   \n",
       "2                                                [None]   \n",
       "3                 ['powerpoint', 'spss', 'excel', 'sa']   \n",
       "4                                ['r', 'sql', 'python']   \n",
       "...                                                 ...   \n",
       "2015                                      ['salesforc']   \n",
       "2016                             ['excel', 'microsoft']   \n",
       "2017                                             [None]   \n",
       "2018                                             [None]   \n",
       "2019  ['power bi', 'excel', 'microsoft', 'rstudio', ...   \n",
       "\n",
       "                                             skill_list  degree_list  \\\n",
       "0                                      ['data', 'busi']        999.0   \n",
       "1                            ['commun', 'data', 'busi']          1.0   \n",
       "2     ['risk', 'dashboard', 'data', 'predict', 'rese...          1.0   \n",
       "3     ['data', 'supervis', 'research', 'statist', 'c...          1.0   \n",
       "4     ['data', 'account', 'research', 'busi', 'commun']        999.0   \n",
       "...                                                 ...          ...   \n",
       "2015                                 ['commun', 'busi']          1.0   \n",
       "2016  ['risk', 'data', 'econom', 'busi', 'commun', '...          1.0   \n",
       "2017                                 ['data', 'analyz']        999.0   \n",
       "2018                         ['commun', 'data', 'busi']        999.0   \n",
       "2019  ['data', 'analyz', 'kpi', 'dashboard', 'resear...        999.0   \n",
       "\n",
       "                                                  clean NEWJT  \n",
       "0                                      ['data', 'busi']     0  \n",
       "1     ['excel', 'sql', 'powerbi', 'commun', 'data', ...     0  \n",
       "2     ['risk', 'dashboard', 'data', 'predict', 'rese...     0  \n",
       "3     ['powerpoint', 'spss', 'excel', 'sa', 'data', ...     0  \n",
       "4     ['r', 'sql', 'python', 'data', 'account', 'res...     0  \n",
       "...                                                 ...   ...  \n",
       "2015                    ['salesforc', 'commun', 'busi']     1  \n",
       "2016  ['excel', 'microsoft', 'risk', 'data', 'econom...     1  \n",
       "2017                                 ['data', 'analyz']     1  \n",
       "2018                         ['commun', 'data', 'busi']     1  \n",
       "2019  ['powerbi', 'excel', 'microsoft', 'r', 'sql', ...     1  \n",
       "\n",
       "[2020 rows x 7 columns]"
      ]
     },
     "execution_count": 13,
     "metadata": {},
     "output_type": "execute_result"
    }
   ],
   "source": [
    "BA_model"
   ]
  },
  {
   "cell_type": "code",
   "execution_count": 14,
   "metadata": {},
   "outputs": [
    {
     "data": {
      "text/plain": [
       "count     2020\n",
       "unique       2\n",
       "top          0\n",
       "freq      1020\n",
       "Name: JT, dtype: object"
      ]
     },
     "execution_count": 14,
     "metadata": {},
     "output_type": "execute_result"
    }
   ],
   "source": [
    "BA_model['JT'].describe()"
   ]
  },
  {
   "cell_type": "markdown",
   "metadata": {},
   "source": [
    "## Decision Tree"
   ]
  },
  {
   "cell_type": "code",
   "execution_count": 15,
   "metadata": {},
   "outputs": [
    {
     "name": "stdout",
     "output_type": "stream",
     "text": [
      "              precision    recall  f1-score   support\n",
      "\n",
      "          BA       0.72      0.82      0.77       313\n",
      "          DA       0.62      0.63      0.62       311\n",
      "          DE       0.80      0.74      0.77       340\n",
      "          DS       0.77      0.70      0.74       278\n",
      "\n",
      "    accuracy                           0.73      1242\n",
      "   macro avg       0.73      0.72      0.72      1242\n",
      "weighted avg       0.73      0.73      0.73      1242\n",
      "\n"
     ]
    },
    {
     "data": {
      "image/png": "[encoded data removed]",
      "text/plain": [
       "<Figure size 432x288 with 1 Axes>"
      ]
     },
     "metadata": {
      "needs_background": "light"
     },
     "output_type": "display_data"
    }
   ],
   "source": [
    "dtree = DecisionTreeClassifier()\n",
    "evaluate_model(df_whole,dtree,rf=True)"
   ]
  },
  {
   "cell_type": "markdown",
   "metadata": {},
   "source": [
    "## Random Forest"
   ]
  },
  {
   "cell_type": "code",
   "execution_count": 16,
   "metadata": {},
   "outputs": [
    {
     "name": "stdout",
     "output_type": "stream",
     "text": [
      "              precision    recall  f1-score   support\n",
      "\n",
      "          BA       0.82      0.85      0.83       319\n",
      "          DA       0.69      0.71      0.70       301\n",
      "          DE       0.83      0.85      0.84       349\n",
      "          DS       0.83      0.74      0.78       273\n",
      "\n",
      "    accuracy                           0.79      1242\n",
      "   macro avg       0.79      0.79      0.79      1242\n",
      "weighted avg       0.79      0.79      0.79      1242\n",
      "\n"
     ]
    },
    {
     "data": {
      "image/png": "[encoded data removed]",
      "text/plain": [
       "<Figure size 432x288 with 1 Axes>"
      ]
     },
     "metadata": {
      "needs_background": "light"
     },
     "output_type": "display_data"
    }
   ],
   "source": [
    "from sklearn.ensemble import RandomForestClassifier\n",
    "rf = RandomForestClassifier(n_estimators=10)\n",
    "evaluate_model(df_whole,rf,rf=True)"
   ]
  },
  {
   "cell_type": "code",
   "execution_count": 17,
   "metadata": {},
   "outputs": [],
   "source": [
    "# from sklearn.model_selection import GridSearchCV\n",
    "# parameters = {\n",
    "#      'n_estimators':(10, 50,100,150,200), #the number of trees\n",
    "#      'max_depth':(5,10,20,30,50,80),\n",
    "#      'min_samples_split': (2, 4, 8),\n",
    "#      'min_samples_leaf': (4,8,12,16)\n",
    "# }\n",
    "\n",
    "# model = GridSearchCV(RandomForestClassifier(),parameters,cv=3,iid=False)\n",
    "# model.fit(X_train, Y_train)\n",
    "# model.best_score_, model.best_params_"
   ]
  },
  {
   "cell_type": "code",
   "execution_count": 18,
   "metadata": {},
   "outputs": [],
   "source": [
    "b_model = RandomForestClassifier(max_depth=20,min_samples_leaf=4,min_samples_split=8,n_estimators=200)"
   ]
  },
  {
   "cell_type": "code",
   "execution_count": 19,
   "metadata": {},
   "outputs": [
    {
     "name": "stdout",
     "output_type": "stream",
     "text": [
      "              precision    recall  f1-score   support\n",
      "\n",
      "          BA       0.75      0.82      0.78       298\n",
      "          DA       0.69      0.65      0.67       312\n",
      "          DE       0.85      0.83      0.84       354\n",
      "          DS       0.81      0.80      0.81       278\n",
      "\n",
      "    accuracy                           0.78      1242\n",
      "   macro avg       0.78      0.78      0.78      1242\n",
      "weighted avg       0.78      0.78      0.78      1242\n",
      "\n"
     ]
    },
    {
     "data": {
      "image/png": "[encoded data removed]",
      "text/plain": [
       "<Figure size 432x288 with 1 Axes>"
      ]
     },
     "metadata": {
      "needs_background": "light"
     },
     "output_type": "display_data"
    }
   ],
   "source": [
    "evaluate_model(df_whole,b_model,rf=True)"
   ]
  },
  {
   "cell_type": "markdown",
   "metadata": {},
   "source": [
    "### Rf for each JT"
   ]
  },
  {
   "cell_type": "code",
   "execution_count": 20,
   "metadata": {},
   "outputs": [],
   "source": [
    "BA_model = encoding('BA')\n",
    "DE_model = encoding('DE')\n",
    "DS_model = encoding('DS')\n",
    "DA_model = encoding('DA')"
   ]
  },
  {
   "cell_type": "code",
   "execution_count": 21,
   "metadata": {},
   "outputs": [],
   "source": [
    "rf = RandomForestClassifier(n_estimators=10)"
   ]
  },
  {
   "cell_type": "code",
   "execution_count": 22,
   "metadata": {},
   "outputs": [
    {
     "name": "stdout",
     "output_type": "stream",
     "text": [
      "              precision    recall  f1-score   support\n",
      "\n",
      "           0       0.88      0.88      0.88       303\n",
      "           1       0.88      0.88      0.88       303\n",
      "\n",
      "    accuracy                           0.88       606\n",
      "   macro avg       0.88      0.88      0.88       606\n",
      "weighted avg       0.88      0.88      0.88       606\n",
      "\n"
     ]
    },
    {
     "data": {
      "image/png": "[encoded data removed]",
      "text/plain": [
       "<Figure size 432x288 with 1 Axes>"
      ]
     },
     "metadata": {
      "needs_background": "light"
     },
     "output_type": "display_data"
    }
   ],
   "source": [
    "evaluate_model(BA_model,rf,rf=True)"
   ]
  },
  {
   "cell_type": "code",
   "execution_count": 23,
   "metadata": {},
   "outputs": [
    {
     "name": "stdout",
     "output_type": "stream",
     "text": [
      "              precision    recall  f1-score   support\n",
      "\n",
      "           0       0.84      0.79      0.81       318\n",
      "           1       0.78      0.84      0.81       288\n",
      "\n",
      "    accuracy                           0.81       606\n",
      "   macro avg       0.81      0.81      0.81       606\n",
      "weighted avg       0.81      0.81      0.81       606\n",
      "\n"
     ]
    },
    {
     "data": {
      "image/png": "[encoded data removed]",
      "text/plain": [
       "<Figure size 432x288 with 1 Axes>"
      ]
     },
     "metadata": {
      "needs_background": "light"
     },
     "output_type": "display_data"
    }
   ],
   "source": [
    "evaluate_model(DA_model,rf,rf=True)"
   ]
  },
  {
   "cell_type": "code",
   "execution_count": 24,
   "metadata": {},
   "outputs": [
    {
     "name": "stdout",
     "output_type": "stream",
     "text": [
      "              precision    recall  f1-score   support\n",
      "\n",
      "           0       0.83      0.88      0.86       301\n",
      "           1       0.87      0.82      0.85       297\n",
      "\n",
      "    accuracy                           0.85       598\n",
      "   macro avg       0.85      0.85      0.85       598\n",
      "weighted avg       0.85      0.85      0.85       598\n",
      "\n"
     ]
    },
    {
     "data": {
      "image/png": "[encoded data removed]",
      "text/plain": [
       "<Figure size 432x288 with 1 Axes>"
      ]
     },
     "metadata": {
      "needs_background": "light"
     },
     "output_type": "display_data"
    }
   ],
   "source": [
    "evaluate_model(DS_model,rf,rf=True)"
   ]
  },
  {
   "cell_type": "code",
   "execution_count": 25,
   "metadata": {},
   "outputs": [
    {
     "name": "stdout",
     "output_type": "stream",
     "text": [
      "              precision    recall  f1-score   support\n",
      "\n",
      "           0       0.85      0.88      0.87       308\n",
      "           1       0.89      0.87      0.88       349\n",
      "\n",
      "    accuracy                           0.87       657\n",
      "   macro avg       0.87      0.87      0.87       657\n",
      "weighted avg       0.87      0.87      0.87       657\n",
      "\n"
     ]
    },
    {
     "data": {
      "image/png": "[encoded data removed]",
      "text/plain": [
       "<Figure size 432x288 with 1 Axes>"
      ]
     },
     "metadata": {
      "needs_background": "light"
     },
     "output_type": "display_data"
    }
   ],
   "source": [
    "evaluate_model(DE_model,rf,rf=True)"
   ]
  },
  {
   "cell_type": "markdown",
   "metadata": {},
   "source": [
    "## Bagging"
   ]
  },
  {
   "cell_type": "code",
   "execution_count": 26,
   "metadata": {},
   "outputs": [],
   "source": [
    "from sklearn.ensemble import BaggingClassifier\n",
    "# parameters = {\n",
    "#      'n_estimators':(30, 50,80), #the number of trees\n",
    "#      'max_samples':(20,40,60,80,100,120,150,200),\n",
    "#      'max_features':(20,40,60,80,100,120,150,200),\n",
    "     \n",
    "# }\n",
    "\n",
    "# model = GridSearchCV(BaggingClassifier(),parameters,cv=3,iid=False)\n",
    "# model.fit(X_train, Y_train)\n",
    "# model.best_score_, model.best_params_"
   ]
  },
  {
   "cell_type": "code",
   "execution_count": 27,
   "metadata": {},
   "outputs": [
    {
     "name": "stdout",
     "output_type": "stream",
     "text": [
      "              precision    recall  f1-score   support\n",
      "\n",
      "          BA       0.70      0.86      0.77       292\n",
      "          DA       0.69      0.57      0.63       304\n",
      "          DE       0.79      0.81      0.80       335\n",
      "          DS       0.83      0.77      0.80       311\n",
      "\n",
      "    accuracy                           0.75      1242\n",
      "   macro avg       0.75      0.75      0.75      1242\n",
      "weighted avg       0.76      0.75      0.75      1242\n",
      "\n"
     ]
    }
   ],
   "source": [
    "bg_model=BaggingClassifier(max_features=120,max_samples=200,n_estimators=80)\n",
    "evaluate_model(df_whole,bg_model)"
   ]
  },
  {
   "cell_type": "code",
   "execution_count": 28,
   "metadata": {},
   "outputs": [],
   "source": [
    "bg=BaggingClassifier()"
   ]
  },
  {
   "cell_type": "code",
   "execution_count": 29,
   "metadata": {},
   "outputs": [
    {
     "name": "stdout",
     "output_type": "stream",
     "text": [
      "              precision    recall  f1-score   support\n",
      "\n",
      "           0       0.90      0.88      0.89       300\n",
      "           1       0.89      0.91      0.90       306\n",
      "\n",
      "    accuracy                           0.89       606\n",
      "   macro avg       0.89      0.89      0.89       606\n",
      "weighted avg       0.89      0.89      0.89       606\n",
      "\n"
     ]
    }
   ],
   "source": [
    "evaluate_model(BA_model,bg)"
   ]
  },
  {
   "cell_type": "code",
   "execution_count": 30,
   "metadata": {},
   "outputs": [
    {
     "name": "stdout",
     "output_type": "stream",
     "text": [
      "              precision    recall  f1-score   support\n",
      "\n",
      "           0       0.81      0.78      0.80       319\n",
      "           1       0.77      0.79      0.78       287\n",
      "\n",
      "    accuracy                           0.79       606\n",
      "   macro avg       0.79      0.79      0.79       606\n",
      "weighted avg       0.79      0.79      0.79       606\n",
      "\n"
     ]
    }
   ],
   "source": [
    "evaluate_model(DA_model,bg)"
   ]
  },
  {
   "cell_type": "code",
   "execution_count": null,
   "metadata": {},
   "outputs": [],
   "source": []
  },
  {
   "cell_type": "code",
   "execution_count": null,
   "metadata": {},
   "outputs": [],
   "source": []
  }
 ],
 "metadata": {
  "kernelspec": {
   "display_name": "Python 3",
   "language": "python",
   "name": "python3"
  },
  "language_info": {
   "codemirror_mode": {
    "name": "ipython",
    "version": 3
   },
   "file_extension": ".py",
   "mimetype": "text/x-python",
   "name": "python",
   "nbconvert_exporter": "python",
   "pygments_lexer": "ipython3",
   "version": "3.8.5"
  }
 },
 "nbformat": 4,
 "nbformat_minor": 4
}
