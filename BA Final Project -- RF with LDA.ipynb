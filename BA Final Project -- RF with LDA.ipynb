{
 "cells": [
  {
   "cell_type": "code",
   "execution_count": 1,
   "metadata": {},
   "outputs": [],
   "source": [
    "import pandas as pd\n",
    "import numpy as np\n",
    "from sklearn.model_selection import train_test_split\n",
    "from nltk.corpus import stopwords\n",
    "from nltk.tokenize import word_tokenize\n",
    "import csv"
   ]
  },
  {
   "cell_type": "markdown",
   "metadata": {},
   "source": [
    "# Read In Data"
   ]
  },
  {
   "cell_type": "code",
   "execution_count": 2,
   "metadata": {},
   "outputs": [],
   "source": [
    "df_BA=pd.read_csv('BA')\n",
    "df_DS=pd.read_csv('DS')\n",
    "df_DA=pd.read_csv('DA')\n",
    "df_DE=pd.read_csv('DE')"
   ]
  },
  {
   "cell_type": "code",
   "execution_count": 3,
   "metadata": {},
   "outputs": [
    {
     "data": {
      "text/html": [
       "<div>\n",
       "<style scoped>\n",
       "    .dataframe tbody tr th:only-of-type {\n",
       "        vertical-align: middle;\n",
       "    }\n",
       "\n",
       "    .dataframe tbody tr th {\n",
       "        vertical-align: top;\n",
       "    }\n",
       "\n",
       "    .dataframe thead th {\n",
       "        text-align: right;\n",
       "    }\n",
       "</style>\n",
       "<table border=\"1\" class=\"dataframe\">\n",
       "  <thead>\n",
       "    <tr style=\"text-align: right;\">\n",
       "      <th></th>\n",
       "      <th>JT</th>\n",
       "      <th>JD</th>\n",
       "      <th>tool_list</th>\n",
       "      <th>skill_list</th>\n",
       "      <th>degree_list</th>\n",
       "      <th>clean</th>\n",
       "      <th>lda_list</th>\n",
       "      <th>newlist</th>\n",
       "    </tr>\n",
       "  </thead>\n",
       "  <tbody>\n",
       "    <tr>\n",
       "      <th>0</th>\n",
       "      <td>DS</td>\n",
       "      <td>The app has received high praise in the form o...</td>\n",
       "      <td>['sql', 'linux', 'panda', 'sa', 'unix', 'table...</td>\n",
       "      <td>['research', 'data mining', 'dashboard', 'visu...</td>\n",
       "      <td>1.0</td>\n",
       "      <td>['sql', 'linux', 'panda', 'sa', 'unix', 'table...</td>\n",
       "      <td>['analyt', 'machin', 'set', 'relat', 'sa', 'vi...</td>\n",
       "      <td>['sql', 'linux', 'panda', 'sa', 'unix', 'table...</td>\n",
       "    </tr>\n",
       "    <tr>\n",
       "      <th>1</th>\n",
       "      <td>DS</td>\n",
       "      <td>You have 4+ years of experience as a Data Scie...</td>\n",
       "      <td>['sql', 'numpi', 'panda', 'python', 'excel']</td>\n",
       "      <td>['research', 'commun', 'statist', 'logist', 'r...</td>\n",
       "      <td>999.0</td>\n",
       "      <td>['sql', 'numpi', 'panda', 'python', 'excel', '...</td>\n",
       "      <td>['analyt', 'input', 'python', 'scientist', 'st...</td>\n",
       "      <td>['sql', 'numpi', 'panda', 'python', 'excel', '...</td>\n",
       "    </tr>\n",
       "    <tr>\n",
       "      <th>2</th>\n",
       "      <td>DS</td>\n",
       "      <td>Job Brief\\nThe ideal candidate will have previ...</td>\n",
       "      <td>['sql', 'sa', 'python', 'r']</td>\n",
       "      <td>['research', 'classif', 'predict', 'regress', ...</td>\n",
       "      <td>1.0</td>\n",
       "      <td>['sql', 'sa', 'python', 'r', 'research', 'clas...</td>\n",
       "      <td>['analyt', 'machin', 'techniqu', 'learn', 'rel...</td>\n",
       "      <td>['sql', 'sa', 'python', 'r', 'research', 'clas...</td>\n",
       "    </tr>\n",
       "    <tr>\n",
       "      <th>3</th>\n",
       "      <td>DS</td>\n",
       "      <td>Backed by $153MM in venture funding from top i...</td>\n",
       "      <td>['sql', 'kera', 'linux', 'numpi', 'panda', 'ju...</td>\n",
       "      <td>['research', 'data mining', 'machine learning'...</td>\n",
       "      <td>999.0</td>\n",
       "      <td>['sql', 'kera', 'linux', 'numpi', 'panda', 'ju...</td>\n",
       "      <td>['machin', 'program', 'ml', 'corpor', 'line', ...</td>\n",
       "      <td>['sql', 'kera', 'linux', 'numpi', 'panda', 'ju...</td>\n",
       "    </tr>\n",
       "    <tr>\n",
       "      <th>4</th>\n",
       "      <td>DS</td>\n",
       "      <td>PulsePoint™, a global programmatic advertising...</td>\n",
       "      <td>['spark', 'numpi', 'panda', 'unix', 'hadoop', ...</td>\n",
       "      <td>['healthcar', 'bayesian', 'neural network', 's...</td>\n",
       "      <td>1.0</td>\n",
       "      <td>['spark', 'numpi', 'panda', 'unix', 'hadoop', ...</td>\n",
       "      <td>['machin', 'learn', 'spark', 'ml', 'hadoop', '...</td>\n",
       "      <td>['spark', 'numpi', 'panda', 'unix', 'hadoop', ...</td>\n",
       "    </tr>\n",
       "    <tr>\n",
       "      <th>...</th>\n",
       "      <td>...</td>\n",
       "      <td>...</td>\n",
       "      <td>...</td>\n",
       "      <td>...</td>\n",
       "      <td>...</td>\n",
       "      <td>...</td>\n",
       "      <td>...</td>\n",
       "      <td>...</td>\n",
       "    </tr>\n",
       "    <tr>\n",
       "      <th>968</th>\n",
       "      <td>DS</td>\n",
       "      <td>There is no shortage of computational and stat...</td>\n",
       "      <td>['sql', 'python', 'spark', 'r']</td>\n",
       "      <td>['research', 'pipelin', 'risk', 'machine learn...</td>\n",
       "      <td>2.0</td>\n",
       "      <td>['sql', 'python', 'spark', 'r', 'research', 'p...</td>\n",
       "      <td>['machin', 'program', 'techniqu', 'spark', 'ch...</td>\n",
       "      <td>['sql', 'python', 'spark', 'r', 'research', 'p...</td>\n",
       "    </tr>\n",
       "    <tr>\n",
       "      <th>969</th>\n",
       "      <td>DS</td>\n",
       "      <td>Good understanding of machine learning and dat...</td>\n",
       "      <td>['sql', 'aw', 'cloud', 'python', 'r', 'excel']</td>\n",
       "      <td>['research', 'natural language processing', 'd...</td>\n",
       "      <td>999.0</td>\n",
       "      <td>['sql', 'aw', 'cloud', 'python', 'r', 'excel',...</td>\n",
       "      <td>['analyt', 'machin', 'program', 'techniqu', 'l...</td>\n",
       "      <td>['sql', 'aw', 'cloud', 'python', 'r', 'excel',...</td>\n",
       "    </tr>\n",
       "    <tr>\n",
       "      <th>970</th>\n",
       "      <td>DS</td>\n",
       "      <td>You will collaborate with cross-functional tea...</td>\n",
       "      <td>['sql', 'shini', 'tableau', 'python', 'r', 'ex...</td>\n",
       "      <td>['classif', 'visual', 'regress', 'machine lear...</td>\n",
       "      <td>1.0</td>\n",
       "      <td>['sql', 'shini', 'tableau', 'python', 'r', 'ex...</td>\n",
       "      <td>['analyt', 'machin', 'techniqu', 'learn', 'ml'...</td>\n",
       "      <td>['sql', 'shini', 'tableau', 'python', 'r', 'ex...</td>\n",
       "    </tr>\n",
       "    <tr>\n",
       "      <th>971</th>\n",
       "      <td>DS</td>\n",
       "      <td>The Business Planning and Analysis (BP&amp;A) team...</td>\n",
       "      <td>['sql', 'qlik', 'spark', 'sa', 'hadoop', 'tabl...</td>\n",
       "      <td>['recommend', 'research', 'visual', 'machine l...</td>\n",
       "      <td>1.0</td>\n",
       "      <td>['sql', 'qlik', 'spark', 'sa', 'hadoop', 'tabl...</td>\n",
       "      <td>['day', 'analyt', 'machin', 'learn', 'spark', ...</td>\n",
       "      <td>['sql', 'qlik', 'spark', 'sa', 'hadoop', 'tabl...</td>\n",
       "    </tr>\n",
       "    <tr>\n",
       "      <th>972</th>\n",
       "      <td>DS</td>\n",
       "      <td>The ideal candidate will have experience in Pr...</td>\n",
       "      <td>['sql', 'aw', 'r']</td>\n",
       "      <td>['research', 'pipelin', 'predict', 'machine le...</td>\n",
       "      <td>999.0</td>\n",
       "      <td>['sql', 'aw', 'r', 'research', 'pipelin', 'pre...</td>\n",
       "      <td>['analyt', 'machin', 'pipelin', 'predict', 'aw...</td>\n",
       "      <td>['sql', 'aw', 'r', 'research', 'pipelin', 'pre...</td>\n",
       "    </tr>\n",
       "  </tbody>\n",
       "</table>\n",
       "<p>973 rows × 8 columns</p>\n",
       "</div>"
      ],
      "text/plain": [
       "     JT                                                 JD  \\\n",
       "0    DS  The app has received high praise in the form o...   \n",
       "1    DS  You have 4+ years of experience as a Data Scie...   \n",
       "2    DS  Job Brief\\nThe ideal candidate will have previ...   \n",
       "3    DS  Backed by $153MM in venture funding from top i...   \n",
       "4    DS  PulsePoint™, a global programmatic advertising...   \n",
       "..   ..                                                ...   \n",
       "968  DS  There is no shortage of computational and stat...   \n",
       "969  DS  Good understanding of machine learning and dat...   \n",
       "970  DS  You will collaborate with cross-functional tea...   \n",
       "971  DS  The Business Planning and Analysis (BP&A) team...   \n",
       "972  DS  The ideal candidate will have experience in Pr...   \n",
       "\n",
       "                                             tool_list  \\\n",
       "0    ['sql', 'linux', 'panda', 'sa', 'unix', 'table...   \n",
       "1         ['sql', 'numpi', 'panda', 'python', 'excel']   \n",
       "2                         ['sql', 'sa', 'python', 'r']   \n",
       "3    ['sql', 'kera', 'linux', 'numpi', 'panda', 'ju...   \n",
       "4    ['spark', 'numpi', 'panda', 'unix', 'hadoop', ...   \n",
       "..                                                 ...   \n",
       "968                    ['sql', 'python', 'spark', 'r']   \n",
       "969     ['sql', 'aw', 'cloud', 'python', 'r', 'excel']   \n",
       "970  ['sql', 'shini', 'tableau', 'python', 'r', 'ex...   \n",
       "971  ['sql', 'qlik', 'spark', 'sa', 'hadoop', 'tabl...   \n",
       "972                                 ['sql', 'aw', 'r']   \n",
       "\n",
       "                                            skill_list  degree_list  \\\n",
       "0    ['research', 'data mining', 'dashboard', 'visu...          1.0   \n",
       "1    ['research', 'commun', 'statist', 'logist', 'r...        999.0   \n",
       "2    ['research', 'classif', 'predict', 'regress', ...          1.0   \n",
       "3    ['research', 'data mining', 'machine learning'...        999.0   \n",
       "4    ['healthcar', 'bayesian', 'neural network', 's...          1.0   \n",
       "..                                                 ...          ...   \n",
       "968  ['research', 'pipelin', 'risk', 'machine learn...          2.0   \n",
       "969  ['research', 'natural language processing', 'd...        999.0   \n",
       "970  ['classif', 'visual', 'regress', 'machine lear...          1.0   \n",
       "971  ['recommend', 'research', 'visual', 'machine l...          1.0   \n",
       "972  ['research', 'pipelin', 'predict', 'machine le...        999.0   \n",
       "\n",
       "                                                 clean  \\\n",
       "0    ['sql', 'linux', 'panda', 'sa', 'unix', 'table...   \n",
       "1    ['sql', 'numpi', 'panda', 'python', 'excel', '...   \n",
       "2    ['sql', 'sa', 'python', 'r', 'research', 'clas...   \n",
       "3    ['sql', 'kera', 'linux', 'numpi', 'panda', 'ju...   \n",
       "4    ['spark', 'numpi', 'panda', 'unix', 'hadoop', ...   \n",
       "..                                                 ...   \n",
       "968  ['sql', 'python', 'spark', 'r', 'research', 'p...   \n",
       "969  ['sql', 'aw', 'cloud', 'python', 'r', 'excel',...   \n",
       "970  ['sql', 'shini', 'tableau', 'python', 'r', 'ex...   \n",
       "971  ['sql', 'qlik', 'spark', 'sa', 'hadoop', 'tabl...   \n",
       "972  ['sql', 'aw', 'r', 'research', 'pipelin', 'pre...   \n",
       "\n",
       "                                              lda_list  \\\n",
       "0    ['analyt', 'machin', 'set', 'relat', 'sa', 'vi...   \n",
       "1    ['analyt', 'input', 'python', 'scientist', 'st...   \n",
       "2    ['analyt', 'machin', 'techniqu', 'learn', 'rel...   \n",
       "3    ['machin', 'program', 'ml', 'corpor', 'line', ...   \n",
       "4    ['machin', 'learn', 'spark', 'ml', 'hadoop', '...   \n",
       "..                                                 ...   \n",
       "968  ['machin', 'program', 'techniqu', 'spark', 'ch...   \n",
       "969  ['analyt', 'machin', 'program', 'techniqu', 'l...   \n",
       "970  ['analyt', 'machin', 'techniqu', 'learn', 'ml'...   \n",
       "971  ['day', 'analyt', 'machin', 'learn', 'spark', ...   \n",
       "972  ['analyt', 'machin', 'pipelin', 'predict', 'aw...   \n",
       "\n",
       "                                               newlist  \n",
       "0    ['sql', 'linux', 'panda', 'sa', 'unix', 'table...  \n",
       "1    ['sql', 'numpi', 'panda', 'python', 'excel', '...  \n",
       "2    ['sql', 'sa', 'python', 'r', 'research', 'clas...  \n",
       "3    ['sql', 'kera', 'linux', 'numpi', 'panda', 'ju...  \n",
       "4    ['spark', 'numpi', 'panda', 'unix', 'hadoop', ...  \n",
       "..                                                 ...  \n",
       "968  ['sql', 'python', 'spark', 'r', 'research', 'p...  \n",
       "969  ['sql', 'aw', 'cloud', 'python', 'r', 'excel',...  \n",
       "970  ['sql', 'shini', 'tableau', 'python', 'r', 'ex...  \n",
       "971  ['sql', 'qlik', 'spark', 'sa', 'hadoop', 'tabl...  \n",
       "972  ['sql', 'aw', 'r', 'research', 'pipelin', 'pre...  \n",
       "\n",
       "[973 rows x 8 columns]"
      ]
     },
     "execution_count": 3,
     "metadata": {},
     "output_type": "execute_result"
    }
   ],
   "source": [
    "df_DS"
   ]
  },
  {
   "cell_type": "markdown",
   "metadata": {},
   "source": [
    "# Sample and Split"
   ]
  },
  {
   "cell_type": "code",
   "execution_count": 18,
   "metadata": {},
   "outputs": [],
   "source": [
    "from sklearn.model_selection import train_test_split"
   ]
  },
  {
   "cell_type": "code",
   "execution_count": 19,
   "metadata": {},
   "outputs": [
    {
     "data": {
      "text/plain": [
       "(973, 1000, 1000, 1167)"
      ]
     },
     "execution_count": 19,
     "metadata": {},
     "output_type": "execute_result"
    }
   ],
   "source": [
    "len(df_DS),len(df_DA),len(df_BA),len(df_DE)"
   ]
  },
  {
   "cell_type": "code",
   "execution_count": 20,
   "metadata": {},
   "outputs": [],
   "source": [
    "df_DA=df_DA.sample(n=1000)\n",
    "df_BA=df_BA.sample(n=1000)"
   ]
  },
  {
   "cell_type": "code",
   "execution_count": 21,
   "metadata": {},
   "outputs": [
    {
     "data": {
      "text/plain": [
       "(973, 1000, 1000, 1167)"
      ]
     },
     "execution_count": 21,
     "metadata": {},
     "output_type": "execute_result"
    }
   ],
   "source": [
    "len(df_DS),len(df_DA),len(df_BA),len(df_DE)"
   ]
  },
  {
   "cell_type": "code",
   "execution_count": 22,
   "metadata": {},
   "outputs": [],
   "source": [
    "whole_list=[df_DA,df_DS,df_DE,df_BA]\n",
    "df_whole=pd.concat(whole_list)"
   ]
  },
  {
   "cell_type": "code",
   "execution_count": 23,
   "metadata": {},
   "outputs": [
    {
     "data": {
      "text/html": [
       "<div>\n",
       "<style scoped>\n",
       "    .dataframe tbody tr th:only-of-type {\n",
       "        vertical-align: middle;\n",
       "    }\n",
       "\n",
       "    .dataframe tbody tr th {\n",
       "        vertical-align: top;\n",
       "    }\n",
       "\n",
       "    .dataframe thead th {\n",
       "        text-align: right;\n",
       "    }\n",
       "</style>\n",
       "<table border=\"1\" class=\"dataframe\">\n",
       "  <thead>\n",
       "    <tr style=\"text-align: right;\">\n",
       "      <th></th>\n",
       "      <th>JT</th>\n",
       "      <th>JD</th>\n",
       "      <th>tool_list</th>\n",
       "      <th>skill_list</th>\n",
       "      <th>degree_list</th>\n",
       "      <th>clean</th>\n",
       "      <th>lda_list</th>\n",
       "      <th>newlist</th>\n",
       "    </tr>\n",
       "  </thead>\n",
       "  <tbody>\n",
       "    <tr>\n",
       "      <th>1639</th>\n",
       "      <td>DA</td>\n",
       "      <td>Business Area:\\nThis includes Marketing, Sales...</td>\n",
       "      <td>['sql', 'jira', 'tableau', 'python', 'c', 'r',...</td>\n",
       "      <td>['recommend', 'dashboard', 'visual', 'statist'...</td>\n",
       "      <td>1.0</td>\n",
       "      <td>['sql', 'jira', 'tableau', 'python', 'c', 'r',...</td>\n",
       "      <td>['program', 'set', 'visual', 'primari', 'provi...</td>\n",
       "      <td>['sql', 'jira', 'tableau', 'python', 'c', 'r',...</td>\n",
       "    </tr>\n",
       "    <tr>\n",
       "      <th>3806</th>\n",
       "      <td>DA</td>\n",
       "      <td>Qualifications/Requirements • Associates Degre...</td>\n",
       "      <td>[None]</td>\n",
       "      <td>['commun']</td>\n",
       "      <td>1.0</td>\n",
       "      <td>['commun']</td>\n",
       "      <td>['program', 'engin', 'challeng', 'handl', 'sch...</td>\n",
       "      <td>['commun', 'program', 'engin', 'challeng', 'ha...</td>\n",
       "    </tr>\n",
       "    <tr>\n",
       "      <th>646</th>\n",
       "      <td>DA</td>\n",
       "      <td>job summary:\\nData Engineer needed for a large...</td>\n",
       "      <td>[None]</td>\n",
       "      <td>['logist']</td>\n",
       "      <td>1.0</td>\n",
       "      <td>['logist']</td>\n",
       "      <td>['engin']</td>\n",
       "      <td>['logist', 'engin']</td>\n",
       "    </tr>\n",
       "    <tr>\n",
       "      <th>152</th>\n",
       "      <td>DA</td>\n",
       "      <td>Interpret data, analyze results using statisti...</td>\n",
       "      <td>['sql', 'sa', 'spss', 'javascript', 'excel']</td>\n",
       "      <td>['clean', 'analyz', 'statist', 'etl']</td>\n",
       "      <td>2.0</td>\n",
       "      <td>['sql', 'sa', 'spss', 'javascript', 'excel', '...</td>\n",
       "      <td>['analyt', 'techniqu', 'engin', 'set', 'sa', '...</td>\n",
       "      <td>['sql', 'sa', 'spss', 'javascript', 'excel', '...</td>\n",
       "    </tr>\n",
       "    <tr>\n",
       "      <th>957</th>\n",
       "      <td>DA</td>\n",
       "      <td>* Excellent communication skills - written and...</td>\n",
       "      <td>['sql', 'excel']</td>\n",
       "      <td>['commun', 'segment']</td>\n",
       "      <td>999.0</td>\n",
       "      <td>['sql', 'excel', 'commun', 'segment']</td>\n",
       "      <td>[None]</td>\n",
       "      <td>['sql', 'excel', 'commun', 'segment', None]</td>\n",
       "    </tr>\n",
       "    <tr>\n",
       "      <th>...</th>\n",
       "      <td>...</td>\n",
       "      <td>...</td>\n",
       "      <td>...</td>\n",
       "      <td>...</td>\n",
       "      <td>...</td>\n",
       "      <td>...</td>\n",
       "      <td>...</td>\n",
       "      <td>...</td>\n",
       "    </tr>\n",
       "    <tr>\n",
       "      <th>635</th>\n",
       "      <td>BA</td>\n",
       "      <td>Business Systems Analyst Specialist*\\nMUST HAV...</td>\n",
       "      <td>['excel']</td>\n",
       "      <td>['end user']</td>\n",
       "      <td>999.0</td>\n",
       "      <td>['excel', 'end user']</td>\n",
       "      <td>['day', 'analyt']</td>\n",
       "      <td>['excel', 'end user', 'day', 'analyt']</td>\n",
       "    </tr>\n",
       "    <tr>\n",
       "      <th>502</th>\n",
       "      <td>BA</td>\n",
       "      <td>by translating business needs into BI solution...</td>\n",
       "      <td>['bi']</td>\n",
       "      <td>['classif']</td>\n",
       "      <td>999.0</td>\n",
       "      <td>['powerbi', 'classif']</td>\n",
       "      <td>['bi', 'human']</td>\n",
       "      <td>['powerbi', 'classif', 'bi', 'human']</td>\n",
       "    </tr>\n",
       "    <tr>\n",
       "      <th>421</th>\n",
       "      <td>BA</td>\n",
       "      <td>People who are comfortable speaking up, sharin...</td>\n",
       "      <td>['excel']</td>\n",
       "      <td>['problem solving', 'commun', 'account', 'fina...</td>\n",
       "      <td>2.0</td>\n",
       "      <td>['excel', 'problem solving', 'commun', 'accoun...</td>\n",
       "      <td>['analyt', 'asset', 'set', 'avail', 'releas', ...</td>\n",
       "      <td>['excel', 'problem solving', 'commun', 'accoun...</td>\n",
       "    </tr>\n",
       "    <tr>\n",
       "      <th>131</th>\n",
       "      <td>BA</td>\n",
       "      <td>* Improve corporate operational and cost effic...</td>\n",
       "      <td>['excel', 'ms office']</td>\n",
       "      <td>['recommend', 'analyz', 'commun', 'account']</td>\n",
       "      <td>2.0</td>\n",
       "      <td>['excel', 'microsoft', 'recommend', 'analyz', ...</td>\n",
       "      <td>['basi', 'program', 'corpor', 'relat', 'line',...</td>\n",
       "      <td>['excel', 'microsoft', 'recommend', 'analyz', ...</td>\n",
       "    </tr>\n",
       "    <tr>\n",
       "      <th>874</th>\n",
       "      <td>BA</td>\n",
       "      <td>Title: Digital Business Analyst\\nDuration: 6+ ...</td>\n",
       "      <td>['jira']</td>\n",
       "      <td>['commun', 'account']</td>\n",
       "      <td>999.0</td>\n",
       "      <td>['jira', 'commun', 'account']</td>\n",
       "      <td>['digit', 'essenti', 'techniqu', 'evalu']</td>\n",
       "      <td>['jira', 'commun', 'account', 'digit', 'essent...</td>\n",
       "    </tr>\n",
       "  </tbody>\n",
       "</table>\n",
       "<p>4140 rows × 8 columns</p>\n",
       "</div>"
      ],
      "text/plain": [
       "      JT                                                 JD  \\\n",
       "1639  DA  Business Area:\\nThis includes Marketing, Sales...   \n",
       "3806  DA  Qualifications/Requirements • Associates Degre...   \n",
       "646   DA  job summary:\\nData Engineer needed for a large...   \n",
       "152   DA  Interpret data, analyze results using statisti...   \n",
       "957   DA  * Excellent communication skills - written and...   \n",
       "...   ..                                                ...   \n",
       "635   BA  Business Systems Analyst Specialist*\\nMUST HAV...   \n",
       "502   BA  by translating business needs into BI solution...   \n",
       "421   BA  People who are comfortable speaking up, sharin...   \n",
       "131   BA  * Improve corporate operational and cost effic...   \n",
       "874   BA  Title: Digital Business Analyst\\nDuration: 6+ ...   \n",
       "\n",
       "                                              tool_list  \\\n",
       "1639  ['sql', 'jira', 'tableau', 'python', 'c', 'r',...   \n",
       "3806                                             [None]   \n",
       "646                                              [None]   \n",
       "152        ['sql', 'sa', 'spss', 'javascript', 'excel']   \n",
       "957                                    ['sql', 'excel']   \n",
       "...                                                 ...   \n",
       "635                                           ['excel']   \n",
       "502                                              ['bi']   \n",
       "421                                           ['excel']   \n",
       "131                              ['excel', 'ms office']   \n",
       "874                                            ['jira']   \n",
       "\n",
       "                                             skill_list  degree_list  \\\n",
       "1639  ['recommend', 'dashboard', 'visual', 'statist'...          1.0   \n",
       "3806                                         ['commun']          1.0   \n",
       "646                                          ['logist']          1.0   \n",
       "152               ['clean', 'analyz', 'statist', 'etl']          2.0   \n",
       "957                               ['commun', 'segment']        999.0   \n",
       "...                                                 ...          ...   \n",
       "635                                        ['end user']        999.0   \n",
       "502                                         ['classif']        999.0   \n",
       "421   ['problem solving', 'commun', 'account', 'fina...          2.0   \n",
       "131        ['recommend', 'analyz', 'commun', 'account']          2.0   \n",
       "874                               ['commun', 'account']        999.0   \n",
       "\n",
       "                                                  clean  \\\n",
       "1639  ['sql', 'jira', 'tableau', 'python', 'c', 'r',...   \n",
       "3806                                         ['commun']   \n",
       "646                                          ['logist']   \n",
       "152   ['sql', 'sa', 'spss', 'javascript', 'excel', '...   \n",
       "957               ['sql', 'excel', 'commun', 'segment']   \n",
       "...                                                 ...   \n",
       "635                               ['excel', 'end user']   \n",
       "502                              ['powerbi', 'classif']   \n",
       "421   ['excel', 'problem solving', 'commun', 'accoun...   \n",
       "131   ['excel', 'microsoft', 'recommend', 'analyz', ...   \n",
       "874                       ['jira', 'commun', 'account']   \n",
       "\n",
       "                                               lda_list  \\\n",
       "1639  ['program', 'set', 'visual', 'primari', 'provi...   \n",
       "3806  ['program', 'engin', 'challeng', 'handl', 'sch...   \n",
       "646                                           ['engin']   \n",
       "152   ['analyt', 'techniqu', 'engin', 'set', 'sa', '...   \n",
       "957                                              [None]   \n",
       "...                                                 ...   \n",
       "635                                   ['day', 'analyt']   \n",
       "502                                     ['bi', 'human']   \n",
       "421   ['analyt', 'asset', 'set', 'avail', 'releas', ...   \n",
       "131   ['basi', 'program', 'corpor', 'relat', 'line',...   \n",
       "874           ['digit', 'essenti', 'techniqu', 'evalu']   \n",
       "\n",
       "                                                newlist  \n",
       "1639  ['sql', 'jira', 'tableau', 'python', 'c', 'r',...  \n",
       "3806  ['commun', 'program', 'engin', 'challeng', 'ha...  \n",
       "646                                 ['logist', 'engin']  \n",
       "152   ['sql', 'sa', 'spss', 'javascript', 'excel', '...  \n",
       "957         ['sql', 'excel', 'commun', 'segment', None]  \n",
       "...                                                 ...  \n",
       "635              ['excel', 'end user', 'day', 'analyt']  \n",
       "502               ['powerbi', 'classif', 'bi', 'human']  \n",
       "421   ['excel', 'problem solving', 'commun', 'accoun...  \n",
       "131   ['excel', 'microsoft', 'recommend', 'analyz', ...  \n",
       "874   ['jira', 'commun', 'account', 'digit', 'essent...  \n",
       "\n",
       "[4140 rows x 8 columns]"
      ]
     },
     "execution_count": 23,
     "metadata": {},
     "output_type": "execute_result"
    }
   ],
   "source": [
    "df_whole"
   ]
  },
  {
   "cell_type": "code",
   "execution_count": null,
   "metadata": {},
   "outputs": [],
   "source": []
  },
  {
   "cell_type": "markdown",
   "metadata": {},
   "source": [
    "# Models"
   ]
  },
  {
   "cell_type": "code",
   "execution_count": 24,
   "metadata": {},
   "outputs": [],
   "source": [
    "from sklearn.feature_extraction.text import CountVectorizer\n",
    "from sklearn.feature_extraction.text import TfidfTransformer\n",
    "from sklearn.metrics import classification_report,confusion_matrix\n",
    "from sklearn.tree import DecisionTreeClassifier\n",
    "from sklearn.model_selection import train_test_split\n",
    "from sklearn.ensemble import RandomForestClassifier"
   ]
  },
  {
   "cell_type": "code",
   "execution_count": 25,
   "metadata": {},
   "outputs": [],
   "source": [
    "def evaluate_model(df,best,rf=False):\n",
    "    df_train, df_test = train_test_split(df, test_size = 0.3)\n",
    "    clean_train=df_train[\"newlist\"]\n",
    "    Y_train=df_train[\"NEWJT\"]\n",
    "    clean_test=df_test[\"newlist\"]\n",
    "    Y_test=df_test[\"NEWJT\"]\n",
    "\n",
    "    vectorizer = CountVectorizer().fit(df[\"newlist\"])\n",
    "    clean_bow= vectorizer.transform(df[\"newlist\"])\n",
    "    train_bow = vectorizer.transform(clean_train)\n",
    "    test_bow = vectorizer.transform(clean_test)\n",
    "    parameter=vectorizer.get_feature_names()\n",
    "    \n",
    "    tfidf_transformer = TfidfTransformer().fit(clean_bow)\n",
    "    X_train = tfidf_transformer.transform(train_bow)\n",
    "    X_test = tfidf_transformer.transform(test_bow)\n",
    "    \n",
    "    best.fit(X_train, Y_train)\n",
    "    predictions1 = best.predict(X_test)\n",
    "    print(classification_report(Y_test,predictions1))\n",
    "    if rf:\n",
    "        importances =best.feature_importances_\n",
    "        forest_importances = pd.Series(importances,index=parameter)\n",
    "        forest_importances=forest_importances.sort_values(ascending=False)[0:10]\n",
    "        ax=forest_importances.plot.barh(x='lab', y='val')\n",
    "        ax.invert_yaxis()\n",
    "    return forest_importances"
   ]
  },
  {
   "cell_type": "code",
   "execution_count": 26,
   "metadata": {},
   "outputs": [],
   "source": [
    "def get_df_name(df):\n",
    "    name =[x for x in globals() if globals()[x] is df][0]\n",
    "    return name"
   ]
  },
  {
   "cell_type": "code",
   "execution_count": 27,
   "metadata": {},
   "outputs": [],
   "source": [
    "def encoding(name):\n",
    "    df = pd.DataFrame()\n",
    "    whole_list=[df_DA,df_DS,df_DE,df_BA]\n",
    "    for i in whole_list:\n",
    "        name1=get_df_name(i)\n",
    "        if name1.split(\"_\")[1]!=name:\n",
    "            i_copy=i.sample(n=340)\n",
    "        else:\n",
    "            i_copy=i.copy()\n",
    "        df=pd.concat([df,i_copy],ignore_index=True)\n",
    "    df[\"NEWJT\"]= np.where(df[\"JT\"]==name,\"1\",\"0\")\n",
    "    return df"
   ]
  },
  {
   "cell_type": "code",
   "execution_count": null,
   "metadata": {},
   "outputs": [],
   "source": []
  },
  {
   "cell_type": "code",
   "execution_count": null,
   "metadata": {},
   "outputs": [],
   "source": []
  },
  {
   "cell_type": "markdown",
   "metadata": {},
   "source": [
    "### Rf for each JT"
   ]
  },
  {
   "cell_type": "code",
   "execution_count": 28,
   "metadata": {},
   "outputs": [],
   "source": [
    "def feature_extra(series):\n",
    "    result=[]\n",
    "    feature=series.index\n",
    "    for word in feature:\n",
    "        result.append(word)\n",
    "    return result"
   ]
  },
  {
   "cell_type": "code",
   "execution_count": 29,
   "metadata": {},
   "outputs": [],
   "source": [
    "BA_model = encoding('BA')\n",
    "DE_model = encoding('DE')\n",
    "DS_model = encoding('DS')\n",
    "DA_model = encoding('DA')"
   ]
  },
  {
   "cell_type": "code",
   "execution_count": null,
   "metadata": {},
   "outputs": [],
   "source": []
  },
  {
   "cell_type": "code",
   "execution_count": 36,
   "metadata": {},
   "outputs": [],
   "source": [
    "rf = RandomForestClassifier(n_estimators=10)"
   ]
  },
  {
   "cell_type": "code",
   "execution_count": 37,
   "metadata": {},
   "outputs": [
    {
     "name": "stdout",
     "output_type": "stream",
     "text": [
      "              precision    recall  f1-score   support\n",
      "\n",
      "           0       0.88      0.84      0.86       309\n",
      "           1       0.84      0.88      0.86       297\n",
      "\n",
      "    accuracy                           0.86       606\n",
      "   macro avg       0.86      0.86      0.86       606\n",
      "weighted avg       0.86      0.86      0.86       606\n",
      "\n"
     ]
    },
    {
     "data": {
      "image/png": "[encoded data removed]",
      "text/plain": [
       "<Figure size 432x288 with 1 Axes>"
      ]
     },
     "metadata": {
      "needs_background": "light"
     },
     "output_type": "display_data"
    }
   ],
   "source": [
    "BA_Feature=evaluate_model(BA_model,rf,rf=True)"
   ]
  },
  {
   "cell_type": "code",
   "execution_count": 38,
   "metadata": {},
   "outputs": [
    {
     "data": {
      "text/plain": [
       "['python',\n",
       " 'spark',\n",
       " 'commun',\n",
       " 'sql',\n",
       " 'learning',\n",
       " 'scientist',\n",
       " 'sourc',\n",
       " 'relat',\n",
       " 'etl',\n",
       " 'excel']"
      ]
     },
     "execution_count": 38,
     "metadata": {},
     "output_type": "execute_result"
    }
   ],
   "source": [
    "BA_feature=feature_extra(BA_Feature)\n",
    "BA_feature"
   ]
  },
  {
   "cell_type": "code",
   "execution_count": 39,
   "metadata": {},
   "outputs": [
    {
     "name": "stdout",
     "output_type": "stream",
     "text": [
      "              precision    recall  f1-score   support\n",
      "\n",
      "           0       0.80      0.77      0.78       309\n",
      "           1       0.77      0.79      0.78       297\n",
      "\n",
      "    accuracy                           0.78       606\n",
      "   macro avg       0.78      0.78      0.78       606\n",
      "weighted avg       0.78      0.78      0.78       606\n",
      "\n"
     ]
    },
    {
     "data": {
      "image/png": "[encoded data removed]",
      "text/plain": [
       "<Figure size 432x288 with 1 Axes>"
      ]
     },
     "metadata": {
      "needs_background": "light"
     },
     "output_type": "display_data"
    }
   ],
   "source": [
    "DA_Feature=evaluate_model(DA_model,rf,rf=True)\n",
    "DA_feature=feature_extra(DA_Feature)"
   ]
  },
  {
   "cell_type": "code",
   "execution_count": 40,
   "metadata": {},
   "outputs": [
    {
     "data": {
      "text/plain": [
       "['sql',\n",
       " 'spark',\n",
       " 'scientist',\n",
       " 'analyt',\n",
       " 'relat',\n",
       " 'excel',\n",
       " 'commun',\n",
       " 'program',\n",
       " 'collect',\n",
       " 'engin']"
      ]
     },
     "execution_count": 40,
     "metadata": {},
     "output_type": "execute_result"
    }
   ],
   "source": [
    "DA_feature"
   ]
  },
  {
   "cell_type": "code",
   "execution_count": 41,
   "metadata": {},
   "outputs": [
    {
     "name": "stdout",
     "output_type": "stream",
     "text": [
      "              precision    recall  f1-score   support\n",
      "\n",
      "           0       0.88      0.92      0.90       300\n",
      "           1       0.91      0.87      0.89       298\n",
      "\n",
      "    accuracy                           0.89       598\n",
      "   macro avg       0.90      0.89      0.89       598\n",
      "weighted avg       0.90      0.89      0.89       598\n",
      "\n"
     ]
    },
    {
     "data": {
      "image/png": "[encoded data removed]",
      "text/plain": [
       "<Figure size 432x288 with 1 Axes>"
      ]
     },
     "metadata": {
      "needs_background": "light"
     },
     "output_type": "display_data"
    }
   ],
   "source": [
    "DS_Feature=evaluate_model(DS_model,rf,rf=True)\n",
    "DS_feature=feature_extra(DS_Feature)"
   ]
  },
  {
   "cell_type": "code",
   "execution_count": 42,
   "metadata": {},
   "outputs": [
    {
     "data": {
      "text/plain": [
       "['learning',\n",
       " 'statist',\n",
       " 'scientist',\n",
       " 'machine',\n",
       " 'python',\n",
       " 'nlp',\n",
       " 'algorithm',\n",
       " 'predict',\n",
       " 'microsoft',\n",
       " 'ml']"
      ]
     },
     "execution_count": 42,
     "metadata": {},
     "output_type": "execute_result"
    }
   ],
   "source": [
    "DS_feature"
   ]
  },
  {
   "cell_type": "code",
   "execution_count": 43,
   "metadata": {},
   "outputs": [
    {
     "name": "stdout",
     "output_type": "stream",
     "text": [
      "              precision    recall  f1-score   support\n",
      "\n",
      "           0       0.87      0.92      0.89       307\n",
      "           1       0.92      0.88      0.90       350\n",
      "\n",
      "    accuracy                           0.89       657\n",
      "   macro avg       0.89      0.90      0.89       657\n",
      "weighted avg       0.90      0.89      0.90       657\n",
      "\n"
     ]
    },
    {
     "data": {
      "image/png": "[encoded data removed]",
      "text/plain": [
       "<Figure size 432x288 with 1 Axes>"
      ]
     },
     "metadata": {
      "needs_background": "light"
     },
     "output_type": "display_data"
    }
   ],
   "source": [
    "DE_Feature=evaluate_model(DE_model,rf,rf=True)\n",
    "DE_feature=feature_extra(DE_Feature)"
   ]
  },
  {
   "cell_type": "code",
   "execution_count": 44,
   "metadata": {},
   "outputs": [
    {
     "data": {
      "text/plain": [
       "['spark',\n",
       " 'pipelin',\n",
       " 'engin',\n",
       " 'python',\n",
       " 'data',\n",
       " 'statist',\n",
       " 'java',\n",
       " 'etl',\n",
       " 'nosql',\n",
       " 'kafka']"
      ]
     },
     "execution_count": 44,
     "metadata": {},
     "output_type": "execute_result"
    }
   ],
   "source": [
    "DE_feature"
   ]
  },
  {
   "cell_type": "code",
   "execution_count": 45,
   "metadata": {},
   "outputs": [],
   "source": [
    "with open('Feature_List', 'w') as f:\n",
    "      \n",
    "    # using csv.writer method from CSV package\n",
    "    write = csv.writer(f)\n",
    "      \n",
    "    write.writerow(BA_feature)\n",
    "    write.writerow(DA_feature)\n",
    "    write.writerow(DS_feature)\n",
    "    write.writerow(DE_feature)"
   ]
  },
  {
   "cell_type": "code",
   "execution_count": null,
   "metadata": {},
   "outputs": [],
   "source": []
  },
  {
   "cell_type": "code",
   "execution_count": null,
   "metadata": {},
   "outputs": [],
   "source": []
  },
  {
   "cell_type": "code",
   "execution_count": null,
   "metadata": {},
   "outputs": [],
   "source": []
  }
 ],
 "metadata": {
  "kernelspec": {
   "display_name": "Python 3",
   "language": "python",
   "name": "python3"
  },
  "language_info": {
   "codemirror_mode": {
    "name": "ipython",
    "version": 3
   },
   "file_extension": ".py",
   "mimetype": "text/x-python",
   "name": "python",
   "nbconvert_exporter": "python",
   "pygments_lexer": "ipython3",
   "version": "3.8.5"
  }
 },
 "nbformat": 4,
 "nbformat_minor": 4
}
